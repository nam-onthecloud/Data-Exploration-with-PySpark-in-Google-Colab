{
  "nbformat": 4,
  "nbformat_minor": 0,
  "metadata": {
    "colab": {
      "name": "Data Exploration with PySpark",
      "provenance": [],
      "collapsed_sections": [],
      "authorship_tag": "ABX9TyMMYJZG1moPIU/WbX2oWFDf",
      "include_colab_link": true
    },
    "kernelspec": {
      "name": "python3",
      "display_name": "Python 3"
    },
    "language_info": {
      "name": "python"
    }
  },
  "cells": [
    {
      "cell_type": "markdown",
      "metadata": {
        "id": "view-in-github",
        "colab_type": "text"
      },
      "source": [
        "<a href=\"https://colab.research.google.com/github/nam-onthecloud/Data-Exploration-with-PySpark-in-Google-Colab/blob/main/Data_Exploration_with_PySpark.ipynb\" target=\"_parent\"><img src=\"https://colab.research.google.com/assets/colab-badge.svg\" alt=\"Open In Colab\"/></a>"
      ]
    },
    {
      "cell_type": "markdown",
      "metadata": {
        "id": "Ptg6LD5bTmba"
      },
      "source": [
        "# Snippets"
      ]
    },
    {
      "cell_type": "code",
      "metadata": {
        "id": "6hctPbOoS-PI"
      },
      "source": [
        "import pandas as pd\n",
        "import numpy as np\n",
        "import matplotlib.pyplot as plt\n",
        "from google.colab import drive\n",
        "drive.mount('/content/drive')"
      ],
      "execution_count": null,
      "outputs": []
    },
    {
      "cell_type": "markdown",
      "metadata": {
        "id": "lhKKX13Esl_-"
      },
      "source": [
        "## Reading Data from Drive"
      ]
    },
    {
      "cell_type": "code",
      "metadata": {
        "id": "B8NcVU0MsrZl"
      },
      "source": [
        ""
      ],
      "execution_count": null,
      "outputs": []
    },
    {
      "cell_type": "markdown",
      "metadata": {
        "id": "50Eyw6yBsw52"
      },
      "source": [
        "# Setting up PySpark in Colab"
      ]
    },
    {
      "cell_type": "code",
      "metadata": {
        "id": "ccASUUpoxMmm"
      },
      "source": [
        ""
      ],
      "execution_count": null,
      "outputs": []
    },
    {
      "cell_type": "markdown",
      "metadata": {
        "id": "wxq-4lvGs1m_"
      },
      "source": [
        "#Loading data into PySpark"
      ]
    },
    {
      "cell_type": "markdown",
      "metadata": {
        "id": "0ay2WkfFy09N"
      },
      "source": [
        "Dowload dataset and then unzip it\n",
        "\n"
      ]
    },
    {
      "cell_type": "code",
      "metadata": {
        "colab": {
          "base_uri": "https://localhost:8080/"
        },
        "id": "9lHQkckwynUp",
        "outputId": "0370bf33-4f5b-4cf7-b4cf-5360ef6aad7f"
      },
      "source": [
        "!wget https://github.com/nam-onthecloud/Data-Exploration-with-PySpark-in-Google-Colab/blob/main/dataset/train.zip?raw=true"
      ],
      "execution_count": 5,
      "outputs": [
        {
          "output_type": "stream",
          "text": [
            "--2021-07-08 01:45:29--  https://github.com/nam-onthecloud/Data-Exploration-with-PySpark-in-Google-Colab/blob/main/dataset/train.zip?raw=true\n",
            "Resolving github.com (github.com)... 140.82.114.3\n",
            "Connecting to github.com (github.com)|140.82.114.3|:443... connected.\n",
            "HTTP request sent, awaiting response... 302 Found\n",
            "Location: https://github.com/nam-onthecloud/Data-Exploration-with-PySpark-in-Google-Colab/raw/main/dataset/train.zip [following]\n",
            "--2021-07-08 01:45:29--  https://github.com/nam-onthecloud/Data-Exploration-with-PySpark-in-Google-Colab/raw/main/dataset/train.zip\n",
            "Reusing existing connection to github.com:443.\n",
            "HTTP request sent, awaiting response... 302 Found\n",
            "Location: https://raw.githubusercontent.com/nam-onthecloud/Data-Exploration-with-PySpark-in-Google-Colab/main/dataset/train.zip [following]\n",
            "--2021-07-08 01:45:29--  https://raw.githubusercontent.com/nam-onthecloud/Data-Exploration-with-PySpark-in-Google-Colab/main/dataset/train.zip\n",
            "Resolving raw.githubusercontent.com (raw.githubusercontent.com)... 185.199.108.133, 185.199.109.133, 185.199.110.133, ...\n",
            "Connecting to raw.githubusercontent.com (raw.githubusercontent.com)|185.199.108.133|:443... connected.\n",
            "HTTP request sent, awaiting response... 200 OK\n",
            "Length: 4720668 (4.5M) [application/zip]\n",
            "Saving to: ‘train.zip?raw=true’\n",
            "\n",
            "train.zip?raw=true  100%[===================>]   4.50M  --.-KB/s    in 0.05s   \n",
            "\n",
            "2021-07-08 01:45:30 (84.2 MB/s) - ‘train.zip?raw=true’ saved [4720668/4720668]\n",
            "\n"
          ],
          "name": "stdout"
        }
      ]
    },
    {
      "cell_type": "code",
      "metadata": {
        "colab": {
          "base_uri": "https://localhost:8080/"
        },
        "id": "XcgwIjlYyt_O",
        "outputId": "49735b8d-94c2-43c6-f162-1d104437b411"
      },
      "source": [
        "!unzip /content/train.zip?raw=true\n",
        "!rm /content/train.zip?raw=true"
      ],
      "execution_count": 9,
      "outputs": [
        {
          "output_type": "stream",
          "text": [
            "Archive:  /content/train.zip?raw=true\n",
            "replace train.csv? [y]es, [n]o, [A]ll, [N]one, [r]ename: "
          ],
          "name": "stdout"
        }
      ]
    },
    {
      "cell_type": "code",
      "metadata": {
        "colab": {
          "base_uri": "https://localhost:8080/"
        },
        "id": "eQzs2ysOzu54",
        "outputId": "84eab707-0361-425d-bf91-0753d38ca954"
      },
      "source": [
        "!git clone https://github.com/nam-onthecloud/Data-Exploration-with-PySpark-in-Google-Colab.git"
      ],
      "execution_count": 11,
      "outputs": [
        {
          "output_type": "stream",
          "text": [
            "Cloning into 'Data-Exploration-with-PySpark-in-Google-Colab'...\n",
            "remote: Enumerating objects: 8, done.\u001b[K\n",
            "remote: Counting objects: 100% (8/8), done.\u001b[K\n",
            "remote: Compressing objects: 100% (4/4), done.\u001b[K\n",
            "remote: Total 8 (delta 0), reused 0 (delta 0), pack-reused 0\u001b[K\n",
            "Unpacking objects: 100% (8/8), done.\n"
          ],
          "name": "stdout"
        }
      ]
    },
    {
      "cell_type": "markdown",
      "metadata": {
        "id": "5UqSZ0ARs6en"
      },
      "source": [
        "# Understanding the Data"
      ]
    },
    {
      "cell_type": "code",
      "metadata": {
        "id": "-AizQAOms6_J"
      },
      "source": [
        ""
      ],
      "execution_count": null,
      "outputs": []
    },
    {
      "cell_type": "markdown",
      "metadata": {
        "id": "Q5nzb7oPs9LX"
      },
      "source": [
        "#Data Exploration with PySpark DF"
      ]
    },
    {
      "cell_type": "code",
      "metadata": {
        "id": "7dCKfxE8s-9n"
      },
      "source": [
        ""
      ],
      "execution_count": null,
      "outputs": []
    }
  ]
}